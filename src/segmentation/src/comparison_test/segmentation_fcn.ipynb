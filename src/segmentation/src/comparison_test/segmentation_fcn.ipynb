{
 "cells": [
  {
   "cell_type": "code",
   "execution_count": 1,
   "metadata": {},
   "outputs": [
    {
     "name": "stdout",
     "output_type": "stream",
     "text": [
      "Average value: 1.5302197802197803\n"
     ]
    }
   ],
   "source": [
    "from torchvision import models \n",
    "from PIL import Image \n",
    "import torch\n",
    "import torchvision.transforms as T \n",
    "import numpy as np \n",
    "\n",
    "fcn = models.segmentation.fcn_resnet101(pretrained=True).eval()\n",
    "\n",
    "total_sum = 0\n",
    "num_iterations = 10\n",
    "\n",
    "for _ in range(num_iterations):\n",
    "    img = Image.open(\"/home/moborobo/datasets/test_robot/00035-image-1681470490.1975896.png\") \n",
    "    img = img.convert(\"RGB\")\n",
    "    trf = T.Compose([T.Resize(256),  T.ToTensor(), T.Normalize(mean = [0.485, 0.456, 0.406], std = [0.229, 0.224, 0.225])]) \n",
    "    inp = trf(img).unsqueeze(0)\n",
    "    out = fcn(inp)[\"out\"] \n",
    "    om = torch.argmax(out.squeeze(), dim=0).detach().cpu().numpy() \n",
    "    total_sum += np.mean(om)\n",
    "\n",
    "average_value = total_sum / num_iterations\n",
    "print(\"Average value:\", average_value)\n"
   ]
  },
  {
   "cell_type": "code",
   "execution_count": 4,
   "metadata": {},
   "outputs": [
    {
     "name": "stdout",
     "output_type": "stream",
     "text": [
      "Average value: 1.5001287774725274\n"
     ]
    }
   ],
   "source": [
    "from torchvision import models \n",
    "from PIL import Image \n",
    "import torch\n",
    "import torchvision.transforms as T \n",
    "import numpy as np \n",
    "\n",
    "fcn = models.segmentation.fcn_resnet50(pretrained=True).eval()\n",
    "\n",
    "total_sum = 0\n",
    "num_iterations = 10\n",
    "\n",
    "for _ in range(num_iterations):\n",
    "    img = Image.open(\"/home/moborobo/datasets/test_robot/00035-image-1681470490.1975896.png\") \n",
    "    img = img.convert(\"RGB\")\n",
    "    trf = T.Compose([T.Resize(256),  T.ToTensor(), T.Normalize(mean = [0.485, 0.456, 0.406], std = [0.229, 0.224, 0.225])]) \n",
    "    inp = trf(img).unsqueeze(0)\n",
    "    out = fcn(inp)[\"out\"] \n",
    "    om = torch.argmax(out.squeeze(), dim=0).detach().cpu().numpy() \n",
    "    total_sum += np.mean(om)\n",
    "\n",
    "average_value = total_sum / num_iterations\n",
    "print(\"Average value:\", average_value)\n"
   ]
  },
  {
   "cell_type": "code",
   "execution_count": null,
   "metadata": {},
   "outputs": [],
   "source": []
  }
 ],
 "metadata": {
  "kernelspec": {
   "display_name": "pebal",
   "language": "python",
   "name": "python3"
  },
  "language_info": {
   "codemirror_mode": {
    "name": "ipython",
    "version": 3
   },
   "file_extension": ".py",
   "mimetype": "text/x-python",
   "name": "python",
   "nbconvert_exporter": "python",
   "pygments_lexer": "ipython3",
   "version": "3.8.8"
  }
 },
 "nbformat": 4,
 "nbformat_minor": 2
}
