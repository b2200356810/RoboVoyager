{
 "cells": [
  {
   "cell_type": "code",
   "execution_count": 1,
   "metadata": {},
   "outputs": [
    {
     "name": "stdout",
     "output_type": "stream",
     "text": [
      "Iteration 1: 14.758919477462769 seconds\n",
      "Iteration 2: 14.310077905654907 seconds\n",
      "Iteration 3: 14.277084589004517 seconds\n",
      "Iteration 4: 13.94562840461731 seconds\n",
      "Iteration 5: 14.155790567398071 seconds\n",
      "Iteration 6: 14.114462852478027 seconds\n",
      "Iteration 7: 14.141812086105347 seconds\n",
      "Iteration 8: 14.104209661483765 seconds\n",
      "Iteration 9: 14.05760145187378 seconds\n",
      "Iteration 10: 14.088724136352539 seconds\n",
      "Average running time over 10 iterations: 14.195431113243103 seconds\n"
     ]
    }
   ],
   "source": [
    "import os\n",
    "import numpy as np\n",
    "from PIL import Image\n",
    "from torchvision import transforms\n",
    "import torch\n",
    "from torchvision.models.segmentation import deeplabv3_resnet101\n",
    "import matplotlib.pyplot as plt \n",
    "import time\n",
    "\n",
    "# Step 1: Semantic Segmentation with DeepLab\n",
    "def deeplab_segmentation(image):\n",
    "    transform = transforms.Compose([\n",
    "        transforms.ToTensor(),\n",
    "        transforms.Normalize(mean=[0.485, 0.456, 0.406], std=[0.229, 0.224, 0.225]),\n",
    "    ])\n",
    "    input_tensor = transform(image)\n",
    "    input_batch = input_tensor.unsqueeze(0)\n",
    "\n",
    "    model = deeplabv3_resnet101(pretrained=True)\n",
    "    model.eval()\n",
    "    with torch.no_grad():\n",
    "        output = model(input_batch)['out'][0]\n",
    "        output_predictions = output.argmax(0)\n",
    "\n",
    "    return output_predictions.numpy()\n",
    "\n",
    "# Step 2: Combine Semantic Segmentation Masks with Mask Generation Code\n",
    "def generate_binary_masks(image_path,exclude_classes):\n",
    "\n",
    "    image = Image.open(image_path).convert('RGB')\n",
    "\n",
    "    # Semantic Segmentation with DeepLab\n",
    "    semantic_mask = deeplab_segmentation(image)\n",
    "    # Save semantic segmentation mask\n",
    "    semantic_mask_image = Image.fromarray(semantic_mask.astype(np.uint8))\n",
    "\n",
    "# Step 3: Run the Combined Code\n",
    "if __name__ == '__main__':\n",
    "    image_path = '/home/moborobo/datasets/test_robot/00035-image-1681470490.1975896.png'\n",
    "    exclude_classes = [0] # only exclude background\n",
    "\n",
    "    num_iterations = 10\n",
    "    total_time = 0\n",
    "    for i in range(num_iterations):\n",
    "        start_time = time.time()\n",
    "        generate_binary_masks(image_path, exclude_classes)\n",
    "        end_time = time.time()\n",
    "        iteration_time = end_time - start_time\n",
    "        print(f\"Iteration {i+1}: {iteration_time} seconds\")\n",
    "        total_time += iteration_time\n",
    "\n",
    "    average_time = total_time / num_iterations\n",
    "    print(f\"Average running time over {num_iterations} iterations: {average_time} seconds\")\n"
   ]
  },
  {
   "cell_type": "code",
   "execution_count": null,
   "metadata": {},
   "outputs": [],
   "source": []
  }
 ],
 "metadata": {
  "kernelspec": {
   "display_name": "pebal",
   "language": "python",
   "name": "python3"
  },
  "language_info": {
   "codemirror_mode": {
    "name": "ipython",
    "version": 3
   },
   "file_extension": ".py",
   "mimetype": "text/x-python",
   "name": "python",
   "nbconvert_exporter": "python",
   "pygments_lexer": "ipython3",
   "version": "3.8.8"
  }
 },
 "nbformat": 4,
 "nbformat_minor": 2
}
